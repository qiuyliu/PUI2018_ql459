{
 "cells": [
  {
   "cell_type": "code",
   "execution_count": 1,
   "metadata": {},
   "outputs": [
    {
     "name": "stdout",
     "output_type": "stream",
     "text": [
      "Populating the interactive namespace from numpy and matplotlib\n"
     ]
    },
    {
     "name": "stderr",
     "output_type": "stream",
     "text": [
      "/usr/local/Anaconda3-5.0.0-Linux-x86_64/envs/PUI2016_Python3/lib/python3.5/site-packages/IPython/html.py:14: ShimWarning: The `IPython.html` package has been deprecated. You should import from `notebook` instead. `IPython.html.widgets` has moved to `ipywidgets`.\n",
      "  \"`IPython.html.widgets` has moved to `ipywidgets`.\", ShimWarning)\n"
     ]
    }
   ],
   "source": [
    "import os\n",
    "import pandas as pd\n",
    "import numpy as np\n",
    "import matplotlib.pyplot as plt\n",
    "import seaborn as sns\n",
    "import urllib\n",
    "from scipy import stats\n",
    "\n",
    "%pylab inline"
   ]
  },
  {
   "cell_type": "markdown",
   "metadata": {},
   "source": [
    "### I did the analysis on the distribution of trip duration of yellow taxi using the 2017 Yellow Taxi Trip Data\n",
    "\n",
    "#### https://data.cityofnewyork.us/Transportation/2017-Yellow-Taxi-Trip-Data/biws-g3hs"
   ]
  },
  {
   "cell_type": "code",
   "execution_count": 211,
   "metadata": {},
   "outputs": [],
   "source": [
    "url = \"https://data.cityofnewyork.us/resource/su3p-fcfz.csv\"\n",
    "yellowtaxi = pd.read_csv(url)"
   ]
  },
  {
   "cell_type": "code",
   "execution_count": 42,
   "metadata": {},
   "outputs": [],
   "source": [
    "url = \"https://data.cityofnewyork.us/resource/su3p-fcfz.csv\"\n",
    "taxi = pd.read_csv(url)"
   ]
  },
  {
   "cell_type": "code",
   "execution_count": 43,
   "metadata": {},
   "outputs": [
    {
     "data": {
      "text/html": [
       "<div>\n",
       "<table border=\"1\" class=\"dataframe\">\n",
       "  <thead>\n",
       "    <tr style=\"text-align: right;\">\n",
       "      <th></th>\n",
       "      <th>dolocationid</th>\n",
       "      <th>extra</th>\n",
       "      <th>fare_amount</th>\n",
       "      <th>improvement_surcharge</th>\n",
       "      <th>mta_tax</th>\n",
       "      <th>passenger_count</th>\n",
       "      <th>payment_type</th>\n",
       "      <th>pulocationid</th>\n",
       "      <th>ratecodeid</th>\n",
       "      <th>store_and_fwd_flag</th>\n",
       "      <th>tip_amount</th>\n",
       "      <th>tolls_amount</th>\n",
       "      <th>total_amount</th>\n",
       "      <th>tpep_dropoff_datetime</th>\n",
       "      <th>tpep_pickup_datetime</th>\n",
       "      <th>trip_distance</th>\n",
       "      <th>vendorid</th>\n",
       "    </tr>\n",
       "  </thead>\n",
       "  <tbody>\n",
       "    <tr>\n",
       "      <th>0</th>\n",
       "      <td>13</td>\n",
       "      <td>0.0</td>\n",
       "      <td>7.0</td>\n",
       "      <td>0.3</td>\n",
       "      <td>0.5</td>\n",
       "      <td>4</td>\n",
       "      <td>1</td>\n",
       "      <td>249</td>\n",
       "      <td>1</td>\n",
       "      <td>N</td>\n",
       "      <td>1.56</td>\n",
       "      <td>0.00</td>\n",
       "      <td>9.36</td>\n",
       "      <td>2017-02-10T06:14:31.000</td>\n",
       "      <td>2017-02-10T06:08:59.000</td>\n",
       "      <td>1.52</td>\n",
       "      <td>2</td>\n",
       "    </tr>\n",
       "    <tr>\n",
       "      <th>1</th>\n",
       "      <td>229</td>\n",
       "      <td>0.0</td>\n",
       "      <td>7.5</td>\n",
       "      <td>0.3</td>\n",
       "      <td>0.5</td>\n",
       "      <td>1</td>\n",
       "      <td>1</td>\n",
       "      <td>140</td>\n",
       "      <td>1</td>\n",
       "      <td>N</td>\n",
       "      <td>1.00</td>\n",
       "      <td>0.00</td>\n",
       "      <td>9.30</td>\n",
       "      <td>2017-02-10T06:14:52.000</td>\n",
       "      <td>2017-02-10T06:09:01.000</td>\n",
       "      <td>1.90</td>\n",
       "      <td>1</td>\n",
       "    </tr>\n",
       "    <tr>\n",
       "      <th>2</th>\n",
       "      <td>164</td>\n",
       "      <td>0.0</td>\n",
       "      <td>5.5</td>\n",
       "      <td>0.3</td>\n",
       "      <td>0.5</td>\n",
       "      <td>1</td>\n",
       "      <td>2</td>\n",
       "      <td>233</td>\n",
       "      <td>1</td>\n",
       "      <td>N</td>\n",
       "      <td>0.00</td>\n",
       "      <td>0.00</td>\n",
       "      <td>6.30</td>\n",
       "      <td>2017-02-10T06:13:57.000</td>\n",
       "      <td>2017-02-10T06:09:01.000</td>\n",
       "      <td>0.60</td>\n",
       "      <td>1</td>\n",
       "    </tr>\n",
       "    <tr>\n",
       "      <th>3</th>\n",
       "      <td>186</td>\n",
       "      <td>0.0</td>\n",
       "      <td>14.0</td>\n",
       "      <td>0.3</td>\n",
       "      <td>0.5</td>\n",
       "      <td>1</td>\n",
       "      <td>1</td>\n",
       "      <td>87</td>\n",
       "      <td>1</td>\n",
       "      <td>N</td>\n",
       "      <td>2.95</td>\n",
       "      <td>0.00</td>\n",
       "      <td>17.75</td>\n",
       "      <td>2017-02-10T06:24:27.000</td>\n",
       "      <td>2017-02-10T06:09:01.000</td>\n",
       "      <td>3.80</td>\n",
       "      <td>1</td>\n",
       "    </tr>\n",
       "    <tr>\n",
       "      <th>4</th>\n",
       "      <td>138</td>\n",
       "      <td>0.0</td>\n",
       "      <td>29.5</td>\n",
       "      <td>0.3</td>\n",
       "      <td>0.5</td>\n",
       "      <td>1</td>\n",
       "      <td>1</td>\n",
       "      <td>229</td>\n",
       "      <td>1</td>\n",
       "      <td>N</td>\n",
       "      <td>7.15</td>\n",
       "      <td>5.54</td>\n",
       "      <td>42.99</td>\n",
       "      <td>2017-02-10T06:35:59.000</td>\n",
       "      <td>2017-02-10T06:09:03.000</td>\n",
       "      <td>10.20</td>\n",
       "      <td>1</td>\n",
       "    </tr>\n",
       "  </tbody>\n",
       "</table>\n",
       "</div>"
      ],
      "text/plain": [
       "   dolocationid  extra  fare_amount  improvement_surcharge  mta_tax  \\\n",
       "0            13    0.0          7.0                    0.3      0.5   \n",
       "1           229    0.0          7.5                    0.3      0.5   \n",
       "2           164    0.0          5.5                    0.3      0.5   \n",
       "3           186    0.0         14.0                    0.3      0.5   \n",
       "4           138    0.0         29.5                    0.3      0.5   \n",
       "\n",
       "   passenger_count  payment_type  pulocationid  ratecodeid store_and_fwd_flag  \\\n",
       "0                4             1           249           1                  N   \n",
       "1                1             1           140           1                  N   \n",
       "2                1             2           233           1                  N   \n",
       "3                1             1            87           1                  N   \n",
       "4                1             1           229           1                  N   \n",
       "\n",
       "   tip_amount  tolls_amount  total_amount    tpep_dropoff_datetime  \\\n",
       "0        1.56          0.00          9.36  2017-02-10T06:14:31.000   \n",
       "1        1.00          0.00          9.30  2017-02-10T06:14:52.000   \n",
       "2        0.00          0.00          6.30  2017-02-10T06:13:57.000   \n",
       "3        2.95          0.00         17.75  2017-02-10T06:24:27.000   \n",
       "4        7.15          5.54         42.99  2017-02-10T06:35:59.000   \n",
       "\n",
       "      tpep_pickup_datetime  trip_distance  vendorid  \n",
       "0  2017-02-10T06:08:59.000           1.52         2  \n",
       "1  2017-02-10T06:09:01.000           1.90         1  \n",
       "2  2017-02-10T06:09:01.000           0.60         1  \n",
       "3  2017-02-10T06:09:01.000           3.80         1  \n",
       "4  2017-02-10T06:09:03.000          10.20         1  "
      ]
     },
     "execution_count": 43,
     "metadata": {},
     "output_type": "execute_result"
    }
   ],
   "source": [
    "taxi.head()"
   ]
  },
  {
   "cell_type": "code",
   "execution_count": 44,
   "metadata": {},
   "outputs": [
    {
     "data": {
      "text/plain": [
       "Index(['dolocationid', 'extra', 'fare_amount', 'improvement_surcharge',\n",
       "       'mta_tax', 'passenger_count', 'payment_type', 'pulocationid',\n",
       "       'ratecodeid', 'store_and_fwd_flag', 'tip_amount', 'tolls_amount',\n",
       "       'total_amount', 'tpep_dropoff_datetime', 'tpep_pickup_datetime',\n",
       "       'trip_distance', 'vendorid'],\n",
       "      dtype='object')"
      ]
     },
     "execution_count": 44,
     "metadata": {},
     "output_type": "execute_result"
    }
   ],
   "source": [
    "taxi.columns"
   ]
  },
  {
   "cell_type": "code",
   "execution_count": 51,
   "metadata": {},
   "outputs": [],
   "source": [
    "taxi.dropna(inplace=True)\n",
    "taxi['tpep_pickup_datetime'] = pd.to_datetime(taxi['tpep_pickup_datetime'])\n",
    "taxi['tpep_dropoff_datetime'] = pd.to_datetime(taxi['tpep_dropoff_datetime'])\n",
    "\n",
    "taxi['trip_duration'] = taxi['tpep_dropoff_datetime'] - taxi['tpep_pickup_datetime']\n",
    "\n",
    "taxi['trip_duration'] = pd.to_timedelta(taxi['trip_duration'])\n"
   ]
  },
  {
   "cell_type": "code",
   "execution_count": 52,
   "metadata": {},
   "outputs": [],
   "source": [
    "taxi['trip_duration_second'] = taxi['trip_duration'].dt.total_seconds().astype(int)"
   ]
  },
  {
   "cell_type": "code",
   "execution_count": 53,
   "metadata": {},
   "outputs": [
    {
     "data": {
      "text/html": [
       "<div>\n",
       "<table border=\"1\" class=\"dataframe\">\n",
       "  <thead>\n",
       "    <tr style=\"text-align: right;\">\n",
       "      <th></th>\n",
       "      <th>dolocationid</th>\n",
       "      <th>extra</th>\n",
       "      <th>fare_amount</th>\n",
       "      <th>improvement_surcharge</th>\n",
       "      <th>mta_tax</th>\n",
       "      <th>passenger_count</th>\n",
       "      <th>payment_type</th>\n",
       "      <th>pulocationid</th>\n",
       "      <th>ratecodeid</th>\n",
       "      <th>store_and_fwd_flag</th>\n",
       "      <th>tip_amount</th>\n",
       "      <th>tolls_amount</th>\n",
       "      <th>total_amount</th>\n",
       "      <th>tpep_dropoff_datetime</th>\n",
       "      <th>tpep_pickup_datetime</th>\n",
       "      <th>trip_distance</th>\n",
       "      <th>vendorid</th>\n",
       "      <th>trip_duration</th>\n",
       "      <th>trip_duration_second</th>\n",
       "    </tr>\n",
       "  </thead>\n",
       "  <tbody>\n",
       "    <tr>\n",
       "      <th>2</th>\n",
       "      <td>164</td>\n",
       "      <td>0.0</td>\n",
       "      <td>5.5</td>\n",
       "      <td>0.3</td>\n",
       "      <td>0.5</td>\n",
       "      <td>1</td>\n",
       "      <td>2</td>\n",
       "      <td>233</td>\n",
       "      <td>1</td>\n",
       "      <td>N</td>\n",
       "      <td>0.00</td>\n",
       "      <td>0.00</td>\n",
       "      <td>6.30</td>\n",
       "      <td>2017-02-10 06:13:57</td>\n",
       "      <td>2017-02-10 06:09:01</td>\n",
       "      <td>0.6</td>\n",
       "      <td>1</td>\n",
       "      <td>00:04:56</td>\n",
       "      <td>296</td>\n",
       "    </tr>\n",
       "    <tr>\n",
       "      <th>3</th>\n",
       "      <td>186</td>\n",
       "      <td>0.0</td>\n",
       "      <td>14.0</td>\n",
       "      <td>0.3</td>\n",
       "      <td>0.5</td>\n",
       "      <td>1</td>\n",
       "      <td>1</td>\n",
       "      <td>87</td>\n",
       "      <td>1</td>\n",
       "      <td>N</td>\n",
       "      <td>2.95</td>\n",
       "      <td>0.00</td>\n",
       "      <td>17.75</td>\n",
       "      <td>2017-02-10 06:24:27</td>\n",
       "      <td>2017-02-10 06:09:01</td>\n",
       "      <td>3.8</td>\n",
       "      <td>1</td>\n",
       "      <td>00:15:26</td>\n",
       "      <td>926</td>\n",
       "    </tr>\n",
       "    <tr>\n",
       "      <th>4</th>\n",
       "      <td>138</td>\n",
       "      <td>0.0</td>\n",
       "      <td>29.5</td>\n",
       "      <td>0.3</td>\n",
       "      <td>0.5</td>\n",
       "      <td>1</td>\n",
       "      <td>1</td>\n",
       "      <td>229</td>\n",
       "      <td>1</td>\n",
       "      <td>N</td>\n",
       "      <td>7.15</td>\n",
       "      <td>5.54</td>\n",
       "      <td>42.99</td>\n",
       "      <td>2017-02-10 06:35:59</td>\n",
       "      <td>2017-02-10 06:09:03</td>\n",
       "      <td>10.2</td>\n",
       "      <td>1</td>\n",
       "      <td>00:26:56</td>\n",
       "      <td>1616</td>\n",
       "    </tr>\n",
       "    <tr>\n",
       "      <th>5</th>\n",
       "      <td>264</td>\n",
       "      <td>0.0</td>\n",
       "      <td>7.5</td>\n",
       "      <td>0.3</td>\n",
       "      <td>0.5</td>\n",
       "      <td>1</td>\n",
       "      <td>1</td>\n",
       "      <td>264</td>\n",
       "      <td>1</td>\n",
       "      <td>N</td>\n",
       "      <td>1.00</td>\n",
       "      <td>0.00</td>\n",
       "      <td>9.30</td>\n",
       "      <td>2017-02-10 06:16:18</td>\n",
       "      <td>2017-02-10 06:09:03</td>\n",
       "      <td>1.8</td>\n",
       "      <td>1</td>\n",
       "      <td>00:07:15</td>\n",
       "      <td>435</td>\n",
       "    </tr>\n",
       "    <tr>\n",
       "      <th>6</th>\n",
       "      <td>244</td>\n",
       "      <td>0.0</td>\n",
       "      <td>24.5</td>\n",
       "      <td>0.3</td>\n",
       "      <td>0.5</td>\n",
       "      <td>1</td>\n",
       "      <td>1</td>\n",
       "      <td>68</td>\n",
       "      <td>1</td>\n",
       "      <td>N</td>\n",
       "      <td>6.30</td>\n",
       "      <td>0.00</td>\n",
       "      <td>31.60</td>\n",
       "      <td>2017-02-10 06:28:16</td>\n",
       "      <td>2017-02-10 06:09:03</td>\n",
       "      <td>8.1</td>\n",
       "      <td>1</td>\n",
       "      <td>00:19:13</td>\n",
       "      <td>1153</td>\n",
       "    </tr>\n",
       "  </tbody>\n",
       "</table>\n",
       "</div>"
      ],
      "text/plain": [
       "   dolocationid  extra  fare_amount  improvement_surcharge  mta_tax  \\\n",
       "2           164    0.0          5.5                    0.3      0.5   \n",
       "3           186    0.0         14.0                    0.3      0.5   \n",
       "4           138    0.0         29.5                    0.3      0.5   \n",
       "5           264    0.0          7.5                    0.3      0.5   \n",
       "6           244    0.0         24.5                    0.3      0.5   \n",
       "\n",
       "   passenger_count  payment_type  pulocationid  ratecodeid store_and_fwd_flag  \\\n",
       "2                1             2           233           1                  N   \n",
       "3                1             1            87           1                  N   \n",
       "4                1             1           229           1                  N   \n",
       "5                1             1           264           1                  N   \n",
       "6                1             1            68           1                  N   \n",
       "\n",
       "   tip_amount  tolls_amount  total_amount tpep_dropoff_datetime  \\\n",
       "2        0.00          0.00          6.30   2017-02-10 06:13:57   \n",
       "3        2.95          0.00         17.75   2017-02-10 06:24:27   \n",
       "4        7.15          5.54         42.99   2017-02-10 06:35:59   \n",
       "5        1.00          0.00          9.30   2017-02-10 06:16:18   \n",
       "6        6.30          0.00         31.60   2017-02-10 06:28:16   \n",
       "\n",
       "  tpep_pickup_datetime  trip_distance  vendorid  trip_duration  \\\n",
       "2  2017-02-10 06:09:01            0.6         1       00:04:56   \n",
       "3  2017-02-10 06:09:01            3.8         1       00:15:26   \n",
       "4  2017-02-10 06:09:03           10.2         1       00:26:56   \n",
       "5  2017-02-10 06:09:03            1.8         1       00:07:15   \n",
       "6  2017-02-10 06:09:03            8.1         1       00:19:13   \n",
       "\n",
       "   trip_duration_second  \n",
       "2                   296  \n",
       "3                   926  \n",
       "4                  1616  \n",
       "5                   435  \n",
       "6                  1153  "
      ]
     },
     "execution_count": 53,
     "metadata": {},
     "output_type": "execute_result"
    }
   ],
   "source": [
    "taxi.head()"
   ]
  },
  {
   "cell_type": "code",
   "execution_count": 58,
   "metadata": {},
   "outputs": [],
   "source": [
    "#drop the rows that dropoff time is on 02-11\n",
    "taxi = taxi[taxi['trip_duration_second'] < 80000]"
   ]
  },
  {
   "cell_type": "code",
   "execution_count": 75,
   "metadata": {},
   "outputs": [
    {
     "data": {
      "text/plain": [
       "<function matplotlib.pyplot.show>"
      ]
     },
     "execution_count": 75,
     "metadata": {},
     "output_type": "execute_result"
    },
    {
     "name": "stderr",
     "output_type": "stream",
     "text": [
      "/usr/local/Anaconda3-5.0.0-Linux-x86_64/envs/PUI2016_Python3/lib/python3.5/site-packages/matplotlib/font_manager.py:1316: UserWarning: findfont: Font family ['sans-serif'] not found. Falling back to DejaVu Sans\n",
      "  (prop.get_family(), self.defaultFamily[fontext]))\n"
     ]
    },
    {
     "data": {
      "image/png": "[encoded data removed]",
      "text/plain": [
       "<matplotlib.figure.Figure at 0x7f4c9ace4198>"
      ]
     },
     "metadata": {},
     "output_type": "display_data"
    }
   ],
   "source": [
    "fig, ax = plt.subplots(figsize=(12,10))\n",
    "ax = sns.distplot(taxi.trip_duration_second,bins=40,kde_kws={'color':'k','lw':3,'label':'KDE fit'}, label='trip duration')\n",
    "plt.title(\"The trip duration distribution of NYC green taxi on 10am\", fontsize=20)\n",
    "plt.xlabel('Trip duration (in second)', fontsize = 16)\n",
    "plt.ylabel('KDE', fontsize = 16)\n",
    "plt.legend()\n",
    "plt.show"
   ]
  },
  {
   "cell_type": "markdown",
   "metadata": {},
   "source": [
    "figure 1: trip duration distribution of NYC green taxi on 10am in Feb. 10th, 2017. We see the large portion of trip duration is under 1000 seconds."
   ]
  },
  {
   "cell_type": "code",
   "execution_count": null,
   "metadata": {},
   "outputs": [],
   "source": []
  }
 ],
 "metadata": {
  "kernelspec": {
   "display_name": "PUI2016_Python3",
   "language": "python",
   "name": "pui2016_python3"
  },
  "language_info": {
   "codemirror_mode": {
    "name": "ipython",
    "version": 3
   },
   "file_extension": ".py",
   "mimetype": "text/x-python",
   "name": "python",
   "nbconvert_exporter": "python",
   "pygments_lexer": "ipython3",
   "version": "3.5.4"
  }
 },
 "nbformat": 4,
 "nbformat_minor": 2
}
